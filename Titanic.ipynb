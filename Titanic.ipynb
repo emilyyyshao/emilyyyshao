{
 "cells": [
  {
   "cell_type": "markdown",
   "metadata": {},
   "source": [
    "# 1. 背景介绍－Kaggle: Titanic Machine Learning from Disaster"
   ]
  },
  {
   "cell_type": "markdown",
   "metadata": {},
   "source": [
    "The sinking of the Titanic is one of the most infamous shipwrecks in history.\n",
    "\n",
    "On April 15, 1912, during her maiden voyage, the widely considered “unsinkable” RMS Titanic sank after colliding with an iceberg. Unfortunately, there weren’t enough lifeboats for everyone onboard, resulting in the death of 1502 out of 2224 passengers and crew.\n",
    "\n",
    "While there was some element of luck involved in surviving, it seems some groups of people were more likely to survive than others.\n",
    "\n",
    "In this challenge, we ask you to build a predictive model that answers the question: “what sorts of people were more likely to survive?” using passenger data (ie name, age, gender, socio-economic class, etc).\n",
    "#### 上传时在public board的排名为Top 2.6%"
   ]
  },
  {
   "cell_type": "markdown",
   "metadata": {},
   "source": [
    "# 2. 准备数据"
   ]
  },
  {
   "cell_type": "code",
   "execution_count": null,
   "metadata": {},
   "outputs": [],
   "source": [
    "import seaborn as sns\n",
    "sns.set(style='white',context='notebook',palette='plasma')\n",
    "import pandas as pd\n",
    "import numpy as np\n",
    "import matplotlib.pyplot as plt"
   ]
  },
  {
   "cell_type": "code",
   "execution_count": 200,
   "metadata": {},
   "outputs": [],
   "source": [
    "train = pd.read_csv('train.csv')\n",
    "test = pd.read_csv('test.csv')"
   ]
  },
  {
   "cell_type": "markdown",
   "metadata": {},
   "source": [
    "# 3. 理解数据"
   ]
  },
  {
   "cell_type": "markdown",
   "metadata": {},
   "source": [
    "## 3.1 查看数据情况"
   ]
  },
  {
   "cell_type": "code",
   "execution_count": 216,
   "metadata": {},
   "outputs": [
    {
     "name": "stdout",
     "output_type": "stream",
     "text": [
      "<class 'pandas.core.frame.DataFrame'>\n",
      "RangeIndex: 1309 entries, 0 to 1308\n",
      "Data columns (total 12 columns):\n",
      "Age            1046 non-null float64\n",
      "Cabin          295 non-null object\n",
      "Embarked       1307 non-null object\n",
      "Fare           1308 non-null float64\n",
      "Name           1309 non-null object\n",
      "Parch          1309 non-null int64\n",
      "PassengerId    1309 non-null int64\n",
      "Pclass         1309 non-null int64\n",
      "Sex            1309 non-null object\n",
      "SibSp          1309 non-null int64\n",
      "Survived       891 non-null float64\n",
      "Ticket         1309 non-null object\n",
      "dtypes: float64(3), int64(4), object(5)\n",
      "memory usage: 122.8+ KB\n"
     ]
    }
   ],
   "source": [
    "full = train.append(test,ignore_index = True) #加上ignore_index后，两个表index从1到最后，而不是有两个1\n",
    "full.info()"
   ]
  },
  {
   "cell_type": "markdown",
   "metadata": {},
   "source": [
    "无明显异常值，数据都在合理范围内。其中，Age/Cabin/Embarked/Fare几项有缺失。"
   ]
  },
  {
   "cell_type": "markdown",
   "metadata": {},
   "source": [
    "#### Variable Notes\n",
    "pclass: A proxy for socio-economic status (SES)\n",
    "1st = Upper\n",
    "2nd = Middle\n",
    "3rd = Lower\n",
    "\n",
    "age: Age is fractional if less than 1. If the age is estimated, is it in the form of xx.5\n",
    "\n",
    "sibsp: The dataset defines family relations in this way...\n",
    "Sibling = brother, sister, stepbrother, stepsister\n",
    "Spouse = husband, wife (mistresses and fiancés were ignored)\n",
    "\n",
    "parch: The dataset defines family relations in this way...\n",
    "Parent = mother, father\n",
    "Child = daughter, son, stepdaughter, stepson\n",
    "Some children travelled only with a nanny, therefore parch=0 for them."
   ]
  },
  {
   "cell_type": "markdown",
   "metadata": {},
   "source": [
    "## 3.2 查看特征与标签间关系"
   ]
  },
  {
   "cell_type": "markdown",
   "metadata": {},
   "source": [
    "### 3.1.1 Embarked vs Survived"
   ]
  },
  {
   "cell_type": "code",
   "execution_count": 31,
   "metadata": {
    "scrolled": true
   },
   "outputs": [
    {
     "data": {
      "text/plain": [
       "<matplotlib.axes._subplots.AxesSubplot at 0x11b1c03c8>"
      ]
     },
     "execution_count": 31,
     "metadata": {},
     "output_type": "execute_result"
    },
    {
     "data": {
      "image/png": "[encoded data removed]",
      "text/plain": [
       "<Figure size 432x288 with 1 Axes>"
      ]
     },
     "metadata": {},
     "output_type": "display_data"
    }
   ],
   "source": [
    "sns.barplot(train['Embarked'],train['Survived'])"
   ]
  },
  {
   "cell_type": "code",
   "execution_count": 5,
   "metadata": {},
   "outputs": [
    {
     "name": "stdout",
     "output_type": "stream",
     "text": [
      "Embarked为\"S\"的乘客，其生存率为0.34\n",
      "Embarked为\"C\"的乘客，其生存率为0.55\n",
      "Embarked为\"Q\"的乘客，其生存率为0.39\n"
     ]
    }
   ],
   "source": [
    "print('Embarked为\"S\"的乘客，其生存率为%.2f'%full[full['Embarked']=='S']['Survived'].value_counts(normalize=True)[1])\n",
    "print('Embarked为\"C\"的乘客，其生存率为%.2f'%full[full['Embarked']=='C']['Survived'].value_counts(normalize=True)[1])\n",
    "print('Embarked为\"Q\"的乘客，其生存率为%.2f'%full[full['Embarked']=='Q']['Survived'].value_counts(normalize=True)[1])"
   ]
  },
  {
   "cell_type": "markdown",
   "metadata": {},
   "source": [
    "#### Embarked vs Pclass"
   ]
  },
  {
   "cell_type": "markdown",
   "metadata": {},
   "source": [
    "法国登船乘客生存率较高原因可能与其头等舱乘客比例较高有关"
   ]
  },
  {
   "cell_type": "code",
   "execution_count": 637,
   "metadata": {},
   "outputs": [],
   "source": [
    "bar_width = 0.3\n",
    "x1 = [i for i in range(3)]\n",
    "x2 = [i+bar_width for i in x1]\n",
    "x3 = [i+bar_width for i in x2]\n",
    "pclass_embarked = train[train['Pclass'].notnull()].groupby(by=['Embarked','Pclass']).count()\n",
    "y1 = pclass_embarked['Name'].loc['S'].values\n",
    "y2 = pclass_embarked['Name'].loc['C'].values\n",
    "y3 = pclass_embarked['Name'].loc['Q'].values"
   ]
  },
  {
   "cell_type": "code",
   "execution_count": 638,
   "metadata": {},
   "outputs": [
    {
     "data": {
      "text/plain": [
       "<matplotlib.legend.Legend at 0x12a3314e0>"
      ]
     },
     "execution_count": 638,
     "metadata": {},
     "output_type": "execute_result"
    },
    {
     "data": {
      "image/png": "[encoded data removed]",
      "text/plain": [
       "<Figure size 432x288 with 1 Axes>"
      ]
     },
     "metadata": {},
     "output_type": "display_data"
    }
   ],
   "source": [
    "plt.bar(x1,y1,width=bar_width,label='S',color='palevioletred')\n",
    "plt.bar(x2,y2,width=bar_width,label='C',color='#9e0168')\n",
    "plt.bar(x3,y3,width=bar_width,label='Q',color='#5d1451')\n",
    "x_tick = x2\n",
    "xtick_label = ['1', '2', '3']\n",
    "plt.xticks(x_tick,xtick_label)\n",
    "plt.ylabel('Count')\n",
    "plt.legend(loc=2)\n",
    "#得到验证"
   ]
  },
  {
   "cell_type": "code",
   "execution_count": 605,
   "metadata": {},
   "outputs": [
    {
     "data": {
      "text/plain": [
       "<seaborn.axisgrid.FacetGrid at 0x129093e80>"
      ]
     },
     "execution_count": 605,
     "metadata": {},
     "output_type": "execute_result"
    },
    {
     "data": {
      "image/png": "[encoded data removed]",
      "text/plain": [
       "<Figure size 648x216 with 3 Axes>"
      ]
     },
     "metadata": {},
     "output_type": "display_data"
    }
   ],
   "source": [
    "sns.factorplot('Pclass',col='Embarked',data=train,kind='count',size=3)"
   ]
  },
  {
   "cell_type": "markdown",
   "metadata": {},
   "source": [
    "### 3.1.2 Parch vs Survived"
   ]
  },
  {
   "cell_type": "code",
   "execution_count": 35,
   "metadata": {},
   "outputs": [
    {
     "data": {
      "text/plain": [
       "<matplotlib.axes._subplots.AxesSubplot at 0x11b0f0828>"
      ]
     },
     "execution_count": 35,
     "metadata": {},
     "output_type": "execute_result"
    },
    {
     "data": {
      "image/png": "[encoded data removed]",
      "text/plain": [
       "<Figure size 432x288 with 1 Axes>"
      ]
     },
     "metadata": {},
     "output_type": "display_data"
    }
   ],
   "source": [
    "sns.barplot(train['Parch'],train['Survived'],palette='plasma')"
   ]
  },
  {
   "cell_type": "markdown",
   "metadata": {},
   "source": [
    "当乘客同行的父母及子女数量适中时，生存率较高"
   ]
  },
  {
   "cell_type": "markdown",
   "metadata": {},
   "source": [
    "### 3.1.3 Sibsp vs Survived"
   ]
  },
  {
   "cell_type": "code",
   "execution_count": 38,
   "metadata": {
    "scrolled": true
   },
   "outputs": [
    {
     "data": {
      "text/plain": [
       "<matplotlib.axes._subplots.AxesSubplot at 0x11b6ca7b8>"
      ]
     },
     "execution_count": 38,
     "metadata": {},
     "output_type": "execute_result"
    },
    {
     "data": {
      "image/png": "[encoded data removed]",
      "text/plain": [
       "<Figure size 432x288 with 1 Axes>"
      ]
     },
     "metadata": {},
     "output_type": "display_data"
    }
   ],
   "source": [
    "sns.barplot(train['SibSp'],train['Survived'],palette='plasma')"
   ]
  },
  {
   "cell_type": "markdown",
   "metadata": {},
   "source": [
    "当乘客同行的同辈数量适中时生存率较高"
   ]
  },
  {
   "cell_type": "markdown",
   "metadata": {},
   "source": [
    "### 3.1.4 Pclass vs Survived"
   ]
  },
  {
   "cell_type": "code",
   "execution_count": 40,
   "metadata": {},
   "outputs": [
    {
     "data": {
      "text/plain": [
       "<matplotlib.axes._subplots.AxesSubplot at 0x11b0e8b70>"
      ]
     },
     "execution_count": 40,
     "metadata": {},
     "output_type": "execute_result"
    },
    {
     "data": {
      "image/png": "[encoded data removed]",
      "text/plain": [
       "<Figure size 432x288 with 1 Axes>"
      ]
     },
     "metadata": {},
     "output_type": "display_data"
    }
   ],
   "source": [
    "sns.barplot(train['Pclass'],train['Survived'],palette='plasma')"
   ]
  },
  {
   "cell_type": "markdown",
   "metadata": {},
   "source": [
    "舱位级别越高，存活率越高"
   ]
  },
  {
   "cell_type": "markdown",
   "metadata": {},
   "source": [
    "### 3.1.5 Sex vs Survived"
   ]
  },
  {
   "cell_type": "code",
   "execution_count": 42,
   "metadata": {},
   "outputs": [
    {
     "data": {
      "text/plain": [
       "<matplotlib.axes._subplots.AxesSubplot at 0x11b8ee4e0>"
      ]
     },
     "execution_count": 42,
     "metadata": {},
     "output_type": "execute_result"
    },
    {
     "data": {
      "image/png": "[encoded data removed]",
      "text/plain": [
       "<Figure size 432x288 with 1 Axes>"
      ]
     },
     "metadata": {},
     "output_type": "display_data"
    }
   ],
   "source": [
    "sns.barplot(train['Sex'],train['Survived'],palette='plasma')"
   ]
  },
  {
   "cell_type": "markdown",
   "metadata": {},
   "source": [
    "女性存活率远高于男性"
   ]
  },
  {
   "cell_type": "markdown",
   "metadata": {},
   "source": [
    "### 3.1.6 Fare vs Survived"
   ]
  },
  {
   "cell_type": "code",
   "execution_count": 164,
   "metadata": {},
   "outputs": [
    {
     "data": {
      "text/plain": [
       "<seaborn.axisgrid.FacetGrid at 0x11f0a29e8>"
      ]
     },
     "execution_count": 164,
     "metadata": {},
     "output_type": "execute_result"
    },
    {
     "data": {
      "image/png": "[encoded data removed]",
      "text/plain": [
       "<Figure size 696.55x216 with 1 Axes>"
      ]
     },
     "metadata": {},
     "output_type": "display_data"
    }
   ],
   "source": [
    "#创建坐标轴\n",
    "ageFacet=sns.FacetGrid(train,hue='Survived',aspect=3)\n",
    "#作图，选择图形类型\n",
    "ageFacet.map(sns.kdeplot,'Age',shade=True)\n",
    "#其他信息：坐标轴范围、标签等\n",
    "ageFacet.set(xlim=(0,train['Age'].max()))\n",
    "ageFacet.add_legend()"
   ]
  },
  {
   "cell_type": "code",
   "execution_count": 165,
   "metadata": {},
   "outputs": [
    {
     "data": {
      "text/plain": [
       "<matplotlib.axes._subplots.AxesSubplot at 0x11f2b9630>"
      ]
     },
     "execution_count": 165,
     "metadata": {},
     "output_type": "execute_result"
    },
    {
     "data": {
      "image/png": "[encoded data removed]",
      "text/plain": [
       "<Figure size 432x288 with 2 Axes>"
      ]
     },
     "metadata": {},
     "output_type": "display_data"
    }
   ],
   "source": [
    "survival_rate = (train.groupby('Age').sum()/train.groupby('Age').count())['Survived']\n",
    "sns.kdeplot(survival_rate.index,survival_rate.values,shade=True,cut=1,cbar=True)"
   ]
  },
  {
   "cell_type": "markdown",
   "metadata": {},
   "source": [
    "二元图左高右低，0-10岁存活率高"
   ]
  },
  {
   "cell_type": "code",
   "execution_count": 208,
   "metadata": {},
   "outputs": [
    {
     "data": {
      "text/plain": [
       "<seaborn.axisgrid.FacetGrid at 0x121e21470>"
      ]
     },
     "execution_count": 208,
     "metadata": {},
     "output_type": "execute_result"
    },
    {
     "data": {
      "image/png": "[encoded data removed]",
      "text/plain": [
       "<Figure size 696.55x216 with 1 Axes>"
      ]
     },
     "metadata": {},
     "output_type": "display_data"
    }
   ],
   "source": [
    "#创建坐标轴\n",
    "ageFacet=sns.FacetGrid(train,hue='Survived',aspect=3)\n",
    "#作图，选择图形类型\n",
    "ageFacet.map(sns.kdeplot,'Fare',shade=True)\n",
    "#其他信息：坐标轴范围、标签等\n",
    "ageFacet.set(xlim=(0,150))\n",
    "ageFacet.add_legend()"
   ]
  },
  {
   "cell_type": "markdown",
   "metadata": {},
   "source": [
    "票价低于30时生存率极低，票价高时生存率一般较高"
   ]
  },
  {
   "cell_type": "code",
   "execution_count": 206,
   "metadata": {},
   "outputs": [
    {
     "data": {
      "text/plain": [
       "<matplotlib.legend.Legend at 0x121abaa58>"
      ]
     },
     "execution_count": 206,
     "metadata": {},
     "output_type": "execute_result"
    },
    {
     "data": {
      "image/png": "[encoded data removed]",
      "text/plain": [
       "<Figure size 432x288 with 1 Axes>"
      ]
     },
     "metadata": {},
     "output_type": "display_data"
    }
   ],
   "source": [
    "farePlot1=sns.distplot(train['Fare'][train['Fare'].notnull()],label='skewness:%.2f'%(train['Fare'].skew()))\n",
    "farePlot1.legend(loc='best')"
   ]
  },
  {
   "cell_type": "code",
   "execution_count": 254,
   "metadata": {},
   "outputs": [
    {
     "data": {
      "text/plain": [
       "<matplotlib.legend.Legend at 0x12e243978>"
      ]
     },
     "execution_count": 254,
     "metadata": {},
     "output_type": "execute_result"
    },
    {
     "data": {
      "image/png": "[encoded data removed]",
      "text/plain": [
       "<Figure size 432x288 with 1 Axes>"
      ]
     },
     "metadata": {},
     "output_type": "display_data"
    }
   ],
   "source": [
    "#偏度较高，要进行对数化处理\n",
    "full['Fare'] = full['Fare'].map(lambda x: np.log(x) if x > 0 else 0)\n",
    "farePlot2=sns.distplot(full['Fare'][full['Fare'].notnull()],label='skewness:%.2f'%(full['Fare'].skew()))\n",
    "farePlot2.legend(loc='best')"
   ]
  },
  {
   "cell_type": "markdown",
   "metadata": {},
   "source": [
    "# 4. 数据预处理"
   ]
  },
  {
   "cell_type": "markdown",
   "metadata": {},
   "source": [
    "## 4.1 数据清洗（缺失值以及异常值的处理）"
   ]
  },
  {
   "cell_type": "code",
   "execution_count": 293,
   "metadata": {},
   "outputs": [
    {
     "data": {
      "text/html": [
       "<div>\n",
       "<style scoped>\n",
       "    .dataframe tbody tr th:only-of-type {\n",
       "        vertical-align: middle;\n",
       "    }\n",
       "\n",
       "    .dataframe tbody tr th {\n",
       "        vertical-align: top;\n",
       "    }\n",
       "\n",
       "    .dataframe thead th {\n",
       "        text-align: right;\n",
       "    }\n",
       "</style>\n",
       "<table border=\"1\" class=\"dataframe\">\n",
       "  <thead>\n",
       "    <tr style=\"text-align: right;\">\n",
       "      <th></th>\n",
       "      <th>Age</th>\n",
       "      <th>Cabin</th>\n",
       "      <th>Embarked</th>\n",
       "      <th>Fare</th>\n",
       "      <th>Name</th>\n",
       "      <th>Parch</th>\n",
       "      <th>PassengerId</th>\n",
       "      <th>Pclass</th>\n",
       "      <th>Sex</th>\n",
       "      <th>SibSp</th>\n",
       "      <th>Survived</th>\n",
       "      <th>Ticket</th>\n",
       "      <th>Title</th>\n",
       "      <th>FamilyNum</th>\n",
       "      <th>FamilySize</th>\n",
       "      <th>TicketCount</th>\n",
       "      <th>TicketGroup</th>\n",
       "    </tr>\n",
       "  </thead>\n",
       "  <tbody>\n",
       "    <tr>\n",
       "      <th>0</th>\n",
       "      <td>22.0</td>\n",
       "      <td>U</td>\n",
       "      <td>S</td>\n",
       "      <td>1.981001</td>\n",
       "      <td>Braund, Mr. Owen Harris</td>\n",
       "      <td>0</td>\n",
       "      <td>1</td>\n",
       "      <td>3</td>\n",
       "      <td>0</td>\n",
       "      <td>1</td>\n",
       "      <td>0.0</td>\n",
       "      <td>A/5 21171</td>\n",
       "      <td>Mr</td>\n",
       "      <td>2</td>\n",
       "      <td>1</td>\n",
       "      <td>1</td>\n",
       "      <td>0</td>\n",
       "    </tr>\n",
       "    <tr>\n",
       "      <th>1</th>\n",
       "      <td>38.0</td>\n",
       "      <td>C85</td>\n",
       "      <td>C</td>\n",
       "      <td>4.266662</td>\n",
       "      <td>Cumings, Mrs. John Bradley (Florence Briggs Th...</td>\n",
       "      <td>0</td>\n",
       "      <td>2</td>\n",
       "      <td>1</td>\n",
       "      <td>1</td>\n",
       "      <td>1</td>\n",
       "      <td>1.0</td>\n",
       "      <td>PC 17599</td>\n",
       "      <td>Mrs</td>\n",
       "      <td>2</td>\n",
       "      <td>1</td>\n",
       "      <td>2</td>\n",
       "      <td>1</td>\n",
       "    </tr>\n",
       "    <tr>\n",
       "      <th>2</th>\n",
       "      <td>26.0</td>\n",
       "      <td>U</td>\n",
       "      <td>S</td>\n",
       "      <td>2.070022</td>\n",
       "      <td>Heikkinen, Miss. Laina</td>\n",
       "      <td>0</td>\n",
       "      <td>3</td>\n",
       "      <td>3</td>\n",
       "      <td>1</td>\n",
       "      <td>0</td>\n",
       "      <td>1.0</td>\n",
       "      <td>STON/O2. 3101282</td>\n",
       "      <td>Miss</td>\n",
       "      <td>1</td>\n",
       "      <td>0</td>\n",
       "      <td>1</td>\n",
       "      <td>0</td>\n",
       "    </tr>\n",
       "    <tr>\n",
       "      <th>3</th>\n",
       "      <td>35.0</td>\n",
       "      <td>C123</td>\n",
       "      <td>S</td>\n",
       "      <td>3.972177</td>\n",
       "      <td>Futrelle, Mrs. Jacques Heath (Lily May Peel)</td>\n",
       "      <td>0</td>\n",
       "      <td>4</td>\n",
       "      <td>1</td>\n",
       "      <td>1</td>\n",
       "      <td>1</td>\n",
       "      <td>1.0</td>\n",
       "      <td>113803</td>\n",
       "      <td>Mrs</td>\n",
       "      <td>2</td>\n",
       "      <td>1</td>\n",
       "      <td>2</td>\n",
       "      <td>1</td>\n",
       "    </tr>\n",
       "    <tr>\n",
       "      <th>4</th>\n",
       "      <td>35.0</td>\n",
       "      <td>U</td>\n",
       "      <td>S</td>\n",
       "      <td>2.085672</td>\n",
       "      <td>Allen, Mr. William Henry</td>\n",
       "      <td>0</td>\n",
       "      <td>5</td>\n",
       "      <td>3</td>\n",
       "      <td>0</td>\n",
       "      <td>0</td>\n",
       "      <td>0.0</td>\n",
       "      <td>373450</td>\n",
       "      <td>Mr</td>\n",
       "      <td>1</td>\n",
       "      <td>0</td>\n",
       "      <td>1</td>\n",
       "      <td>0</td>\n",
       "    </tr>\n",
       "  </tbody>\n",
       "</table>\n",
       "</div>"
      ],
      "text/plain": [
       "    Age Cabin Embarked      Fare  \\\n",
       "0  22.0     U        S  1.981001   \n",
       "1  38.0   C85        C  4.266662   \n",
       "2  26.0     U        S  2.070022   \n",
       "3  35.0  C123        S  3.972177   \n",
       "4  35.0     U        S  2.085672   \n",
       "\n",
       "                                                Name  Parch  PassengerId  \\\n",
       "0                            Braund, Mr. Owen Harris      0            1   \n",
       "1  Cumings, Mrs. John Bradley (Florence Briggs Th...      0            2   \n",
       "2                             Heikkinen, Miss. Laina      0            3   \n",
       "3       Futrelle, Mrs. Jacques Heath (Lily May Peel)      0            4   \n",
       "4                           Allen, Mr. William Henry      0            5   \n",
       "\n",
       "   Pclass  Sex  SibSp  Survived            Ticket Title  FamilyNum  \\\n",
       "0       3    0      1       0.0         A/5 21171    Mr          2   \n",
       "1       1    1      1       1.0          PC 17599   Mrs          2   \n",
       "2       3    1      0       1.0  STON/O2. 3101282  Miss          1   \n",
       "3       1    1      1       1.0            113803   Mrs          2   \n",
       "4       3    0      0       0.0            373450    Mr          1   \n",
       "\n",
       "   FamilySize  TicketCount  TicketGroup  \n",
       "0           1            1            0  \n",
       "1           1            2            1  \n",
       "2           0            1            0  \n",
       "3           1            2            1  \n",
       "4           0            1            0  "
      ]
     },
     "execution_count": 293,
     "metadata": {},
     "output_type": "execute_result"
    }
   ],
   "source": [
    "full['Cabin'] = full['Cabin'].fillna('U')#unknown\n",
    "full.head()"
   ]
  },
  {
   "cell_type": "code",
   "execution_count": 23,
   "metadata": {},
   "outputs": [
    {
     "data": {
      "text/plain": [
       "S    914\n",
       "C    270\n",
       "Q    123\n",
       "Name: Embarked, dtype: int64"
      ]
     },
     "execution_count": 23,
     "metadata": {},
     "output_type": "execute_result"
    }
   ],
   "source": [
    "full[full['Embarked'].notnull()]['Embarked'].value_counts()"
   ]
  },
  {
   "cell_type": "code",
   "execution_count": 295,
   "metadata": {},
   "outputs": [],
   "source": [
    "full['Embarked'] = full['Embarked'].fillna('S')#只缺少1个数据，为s的可能性大，填充s"
   ]
  },
  {
   "cell_type": "code",
   "execution_count": 25,
   "metadata": {},
   "outputs": [
    {
     "data": {
      "text/html": [
       "<div>\n",
       "<style scoped>\n",
       "    .dataframe tbody tr th:only-of-type {\n",
       "        vertical-align: middle;\n",
       "    }\n",
       "\n",
       "    .dataframe tbody tr th {\n",
       "        vertical-align: top;\n",
       "    }\n",
       "\n",
       "    .dataframe thead th {\n",
       "        text-align: right;\n",
       "    }\n",
       "</style>\n",
       "<table border=\"1\" class=\"dataframe\">\n",
       "  <thead>\n",
       "    <tr style=\"text-align: right;\">\n",
       "      <th></th>\n",
       "      <th>Age</th>\n",
       "      <th>Cabin</th>\n",
       "      <th>Embarked</th>\n",
       "      <th>Fare</th>\n",
       "      <th>Name</th>\n",
       "      <th>Parch</th>\n",
       "      <th>PassengerId</th>\n",
       "      <th>Pclass</th>\n",
       "      <th>Sex</th>\n",
       "      <th>SibSp</th>\n",
       "      <th>Survived</th>\n",
       "      <th>Ticket</th>\n",
       "    </tr>\n",
       "  </thead>\n",
       "  <tbody>\n",
       "    <tr>\n",
       "      <th>1043</th>\n",
       "      <td>60.5</td>\n",
       "      <td>U</td>\n",
       "      <td>S</td>\n",
       "      <td>NaN</td>\n",
       "      <td>Storey, Mr. Thomas</td>\n",
       "      <td>0</td>\n",
       "      <td>1044</td>\n",
       "      <td>3</td>\n",
       "      <td>male</td>\n",
       "      <td>0</td>\n",
       "      <td>NaN</td>\n",
       "      <td>3701</td>\n",
       "    </tr>\n",
       "  </tbody>\n",
       "</table>\n",
       "</div>"
      ],
      "text/plain": [
       "       Age Cabin Embarked  Fare                Name  Parch  PassengerId  \\\n",
       "1043  60.5     U        S   NaN  Storey, Mr. Thomas      0         1044   \n",
       "\n",
       "      Pclass   Sex  SibSp  Survived Ticket  \n",
       "1043       3  male      0       NaN   3701  "
      ]
     },
     "execution_count": 25,
     "metadata": {},
     "output_type": "execute_result"
    }
   ],
   "source": [
    "full[full['Fare'].isnull()]#根据3等舱、s登陆、cabin为unknown的平均票价估计"
   ]
  },
  {
   "cell_type": "code",
   "execution_count": 40,
   "metadata": {},
   "outputs": [
    {
     "data": {
      "text/plain": [
       "Age                          60.5\n",
       "Cabin                           U\n",
       "Embarked                        S\n",
       "Fare                      14.5155\n",
       "Name           Storey, Mr. Thomas\n",
       "Parch                           0\n",
       "PassengerId                  1044\n",
       "Pclass                          3\n",
       "Sex                          male\n",
       "SibSp                           0\n",
       "Survived                  14.5155\n",
       "Ticket                       3701\n",
       "Name: 1043, dtype: object"
      ]
     },
     "execution_count": 40,
     "metadata": {},
     "output_type": "execute_result"
    }
   ],
   "source": [
    "full = full.fillna(full[(full['Cabin']=='U')&(full['Embarked']=='S')&(full['Pclass']==3)]['Fare'].mean())\n",
    "full.iloc[1043]"
   ]
  },
  {
   "cell_type": "markdown",
   "metadata": {},
   "source": [
    "## 4.2 特征工程（基于对现有数据特征的理解构造的新特征，以挖掘数据的更多特点）"
   ]
  },
  {
   "cell_type": "markdown",
   "metadata": {},
   "source": [
    "### 4.2.1 titles"
   ]
  },
  {
   "cell_type": "code",
   "execution_count": 217,
   "metadata": {},
   "outputs": [
    {
     "data": {
      "text/plain": [
       "Mr              757\n",
       "Miss            260\n",
       "Mrs             197\n",
       "Master           61\n",
       "Dr                8\n",
       "Rev               8\n",
       "Col               4\n",
       "Major             2\n",
       "Ms                2\n",
       "Mlle              2\n",
       "Capt              1\n",
       "Sir               1\n",
       "Dona              1\n",
       "Don               1\n",
       "Mme               1\n",
       "the Countess      1\n",
       "Jonkheer          1\n",
       "Lady              1\n",
       "Name: Title, dtype: int64"
      ]
     },
     "execution_count": 217,
     "metadata": {},
     "output_type": "execute_result"
    }
   ],
   "source": [
    "full['Name']\n",
    "full['Title'] = full['Name'].map(lambda x: x.split(', ')[1].split('.')[0])\n",
    "full['Title'].value_counts()"
   ]
  },
  {
   "cell_type": "code",
   "execution_count": 218,
   "metadata": {},
   "outputs": [
    {
     "data": {
      "text/plain": [
       "array(['Mr', 'Mrs', 'Miss'], dtype=object)"
      ]
     },
     "execution_count": 218,
     "metadata": {},
     "output_type": "execute_result"
    }
   ],
   "source": [
    "def replace_titles(x):\n",
    "    title = x['Title']\n",
    "    if title in ['Don', 'Major', 'Capt', 'Jonkheer', 'Rev', 'Col','Sir']:\n",
    "        return 'Mr'\n",
    "    elif title in ['the Countess', 'Mme', 'Lady','Master']:\n",
    "        return 'Mrs'\n",
    "    elif title in ['Mlle', 'Ms', 'Dona']:\n",
    "        return 'Miss'\n",
    "    elif title =='Dr':\n",
    "        if x['Sex'] =='Male':\n",
    "            return 'Mr'\n",
    "        else:\n",
    "            return 'Mrs'\n",
    "    else:\n",
    "        return title\n",
    "full['Title'] = full.apply(replace_titles,axis=1)\n",
    "full['Title'].unique()"
   ]
  },
  {
   "cell_type": "markdown",
   "metadata": {},
   "source": [
    "### 4.2.2 familynum & familysize"
   ]
  },
  {
   "cell_type": "code",
   "execution_count": 219,
   "metadata": {},
   "outputs": [
    {
     "data": {
      "text/plain": [
       "<matplotlib.axes._subplots.AxesSubplot at 0x12d273470>"
      ]
     },
     "execution_count": 219,
     "metadata": {},
     "output_type": "execute_result"
    },
    {
     "data": {
      "image/png": "[encoded data removed]",
      "text/plain": [
       "<Figure size 432x288 with 1 Axes>"
      ]
     },
     "metadata": {},
     "output_type": "display_data"
    }
   ],
   "source": [
    "full['FamilyNum'] = full['SibSp']+full['Parch']+1\n",
    "sns.barplot(full['FamilyNum'],full['Survived'],palette='plasma')\n",
    "#家庭人数为2-4人时存活率较高，人数过多或者单独一个人存活率较低，进而将familysize分组"
   ]
  },
  {
   "cell_type": "code",
   "execution_count": 220,
   "metadata": {},
   "outputs": [
    {
     "data": {
      "text/plain": [
       "<matplotlib.axes._subplots.AxesSubplot at 0x126380e48>"
      ]
     },
     "execution_count": 220,
     "metadata": {},
     "output_type": "execute_result"
    },
    {
     "data": {
      "image/png": "[encoded data removed]",
      "text/plain": [
       "<Figure size 432x288 with 1 Axes>"
      ]
     },
     "metadata": {},
     "output_type": "display_data"
    }
   ],
   "source": [
    "full['FamilySize'] = full['FamilyNum'].map(lambda x: 1 if 2<=x and x<=4 else 0 if x==1 else 2)\n",
    "sns.barplot(full['FamilySize'],full['Survived'])\n",
    "#family size适中时存活率更高"
   ]
  },
  {
   "cell_type": "markdown",
   "metadata": {},
   "source": [
    "### 4.2.3 cabin"
   ]
  },
  {
   "cell_type": "code",
   "execution_count": 391,
   "metadata": {},
   "outputs": [
    {
     "data": {
      "text/plain": [
       "<matplotlib.axes._subplots.AxesSubplot at 0x12e48fa90>"
      ]
     },
     "execution_count": 391,
     "metadata": {},
     "output_type": "execute_result"
    },
    {
     "data": {
      "image/png": "[encoded data removed]",
      "text/plain": [
       "<Figure size 432x288 with 1 Axes>"
      ]
     },
     "metadata": {},
     "output_type": "display_data"
    }
   ],
   "source": [
    "full['Cabin'] = full['Cabin'].map(lambda x: x[0])\n",
    "sns.barplot(full['Cabin'],full['Survived'],palette='plasma')\n",
    "#cabin为B/D/E时存活率高,U/T时存活率较低，C/G/A/F时候适中"
   ]
  },
  {
   "cell_type": "markdown",
   "metadata": {},
   "source": [
    "### 4.2.4 ticketcount & ticketgroup"
   ]
  },
  {
   "cell_type": "code",
   "execution_count": 221,
   "metadata": {},
   "outputs": [
    {
     "data": {
      "text/plain": [
       "<matplotlib.axes._subplots.AxesSubplot at 0x1263dea90>"
      ]
     },
     "execution_count": 221,
     "metadata": {},
     "output_type": "execute_result"
    },
    {
     "data": {
      "image/png": "[encoded data removed]",
      "text/plain": [
       "<Figure size 432x288 with 1 Axes>"
      ]
     },
     "metadata": {},
     "output_type": "display_data"
    }
   ],
   "source": [
    "TicketDict = full['Ticket'].value_counts()\n",
    "full['TicketCount'] = full['Ticket'].map(TicketDict)\n",
    "sns.barplot(full['TicketCount'],full['Survived'],palette='plasma')\n",
    "#同组票有2-4人时，存活率较高，仅一人或者人数过多时存活率较低"
   ]
  },
  {
   "cell_type": "code",
   "execution_count": 222,
   "metadata": {},
   "outputs": [
    {
     "data": {
      "text/plain": [
       "<matplotlib.axes._subplots.AxesSubplot at 0x12d511d68>"
      ]
     },
     "execution_count": 222,
     "metadata": {},
     "output_type": "execute_result"
    },
    {
     "data": {
      "image/png": "[encoded data removed]",
      "text/plain": [
       "<Figure size 432x288 with 1 Axes>"
      ]
     },
     "metadata": {},
     "output_type": "display_data"
    }
   ],
   "source": [
    "full['TicketGroup'] = full['TicketCount'].map(lambda x: 1 if x>=2 and x<=4 else 0 if x ==1 else 2)\n",
    "sns.barplot(full['TicketGroup'],full['Survived'],palette='plasma')"
   ]
  },
  {
   "cell_type": "markdown",
   "metadata": {},
   "source": [
    "### 4.2.5 sex"
   ]
  },
  {
   "cell_type": "code",
   "execution_count": 223,
   "metadata": {},
   "outputs": [],
   "source": [
    "full['Sex'] = full['Sex'].map({'male':0,'female':1})"
   ]
  },
  {
   "cell_type": "markdown",
   "metadata": {},
   "source": [
    "### 4.2.6 构建RandomForest预测模型填充null的age值"
   ]
  },
  {
   "cell_type": "code",
   "execution_count": 149,
   "metadata": {},
   "outputs": [
    {
     "data": {
      "text/html": [
       "<div>\n",
       "<style scoped>\n",
       "    .dataframe tbody tr th:only-of-type {\n",
       "        vertical-align: middle;\n",
       "    }\n",
       "\n",
       "    .dataframe tbody tr th {\n",
       "        vertical-align: top;\n",
       "    }\n",
       "\n",
       "    .dataframe thead th {\n",
       "        text-align: right;\n",
       "    }\n",
       "</style>\n",
       "<table border=\"1\" class=\"dataframe\">\n",
       "  <thead>\n",
       "    <tr style=\"text-align: right;\">\n",
       "      <th></th>\n",
       "      <th>Age</th>\n",
       "      <th>Fare</th>\n",
       "      <th>Parch</th>\n",
       "      <th>PassengerId</th>\n",
       "      <th>Pclass</th>\n",
       "      <th>SibSp</th>\n",
       "      <th>Survived</th>\n",
       "      <th>TicketCount</th>\n",
       "      <th>TicketGroup</th>\n",
       "      <th>FamilyNum</th>\n",
       "      <th>FamilySize</th>\n",
       "    </tr>\n",
       "  </thead>\n",
       "  <tbody>\n",
       "    <tr>\n",
       "      <th>Age</th>\n",
       "      <td>1.000000</td>\n",
       "      <td>0.178740</td>\n",
       "      <td>-0.150917</td>\n",
       "      <td>0.028814</td>\n",
       "      <td>-0.408106</td>\n",
       "      <td>-0.243699</td>\n",
       "      <td>-0.077221</td>\n",
       "      <td>-0.185284</td>\n",
       "      <td>-0.136441</td>\n",
       "      <td>-0.240229</td>\n",
       "      <td>-0.174901</td>\n",
       "    </tr>\n",
       "    <tr>\n",
       "      <th>Fare</th>\n",
       "      <td>0.178740</td>\n",
       "      <td>1.000000</td>\n",
       "      <td>0.221539</td>\n",
       "      <td>0.031428</td>\n",
       "      <td>-0.558629</td>\n",
       "      <td>0.160238</td>\n",
       "      <td>0.257307</td>\n",
       "      <td>0.478940</td>\n",
       "      <td>0.501253</td>\n",
       "      <td>0.226492</td>\n",
       "      <td>0.287734</td>\n",
       "    </tr>\n",
       "    <tr>\n",
       "      <th>Parch</th>\n",
       "      <td>-0.150917</td>\n",
       "      <td>0.221539</td>\n",
       "      <td>1.000000</td>\n",
       "      <td>0.008942</td>\n",
       "      <td>0.018322</td>\n",
       "      <td>0.373587</td>\n",
       "      <td>0.081629</td>\n",
       "      <td>0.647029</td>\n",
       "      <td>0.565073</td>\n",
       "      <td>0.792296</td>\n",
       "      <td>0.687001</td>\n",
       "    </tr>\n",
       "    <tr>\n",
       "      <th>PassengerId</th>\n",
       "      <td>0.028814</td>\n",
       "      <td>0.031428</td>\n",
       "      <td>0.008942</td>\n",
       "      <td>1.000000</td>\n",
       "      <td>-0.038354</td>\n",
       "      <td>-0.055224</td>\n",
       "      <td>-0.005007</td>\n",
       "      <td>-0.010350</td>\n",
       "      <td>-0.021231</td>\n",
       "      <td>-0.031437</td>\n",
       "      <td>-0.047985</td>\n",
       "    </tr>\n",
       "    <tr>\n",
       "      <th>Pclass</th>\n",
       "      <td>-0.408106</td>\n",
       "      <td>-0.558629</td>\n",
       "      <td>0.018322</td>\n",
       "      <td>-0.038354</td>\n",
       "      <td>1.000000</td>\n",
       "      <td>0.060832</td>\n",
       "      <td>-0.338481</td>\n",
       "      <td>-0.078554</td>\n",
       "      <td>-0.207236</td>\n",
       "      <td>0.050027</td>\n",
       "      <td>-0.067487</td>\n",
       "    </tr>\n",
       "    <tr>\n",
       "      <th>SibSp</th>\n",
       "      <td>-0.243699</td>\n",
       "      <td>0.160238</td>\n",
       "      <td>0.373587</td>\n",
       "      <td>-0.055224</td>\n",
       "      <td>0.060832</td>\n",
       "      <td>1.000000</td>\n",
       "      <td>-0.035322</td>\n",
       "      <td>0.679444</td>\n",
       "      <td>0.578176</td>\n",
       "      <td>0.861952</td>\n",
       "      <td>0.750411</td>\n",
       "    </tr>\n",
       "    <tr>\n",
       "      <th>Survived</th>\n",
       "      <td>-0.077221</td>\n",
       "      <td>0.257307</td>\n",
       "      <td>0.081629</td>\n",
       "      <td>-0.005007</td>\n",
       "      <td>-0.338481</td>\n",
       "      <td>-0.035322</td>\n",
       "      <td>1.000000</td>\n",
       "      <td>0.064962</td>\n",
       "      <td>0.151702</td>\n",
       "      <td>0.016639</td>\n",
       "      <td>0.108631</td>\n",
       "    </tr>\n",
       "    <tr>\n",
       "      <th>TicketCount</th>\n",
       "      <td>-0.185284</td>\n",
       "      <td>0.478940</td>\n",
       "      <td>0.647029</td>\n",
       "      <td>-0.010350</td>\n",
       "      <td>-0.078554</td>\n",
       "      <td>0.679444</td>\n",
       "      <td>0.064962</td>\n",
       "      <td>1.000000</td>\n",
       "      <td>0.877515</td>\n",
       "      <td>0.800556</td>\n",
       "      <td>0.667312</td>\n",
       "    </tr>\n",
       "    <tr>\n",
       "      <th>TicketGroup</th>\n",
       "      <td>-0.136441</td>\n",
       "      <td>0.501253</td>\n",
       "      <td>0.565073</td>\n",
       "      <td>-0.021231</td>\n",
       "      <td>-0.207236</td>\n",
       "      <td>0.578176</td>\n",
       "      <td>0.151702</td>\n",
       "      <td>0.877515</td>\n",
       "      <td>1.000000</td>\n",
       "      <td>0.689151</td>\n",
       "      <td>0.746421</td>\n",
       "    </tr>\n",
       "    <tr>\n",
       "      <th>FamilyNum</th>\n",
       "      <td>-0.240229</td>\n",
       "      <td>0.226492</td>\n",
       "      <td>0.792296</td>\n",
       "      <td>-0.031437</td>\n",
       "      <td>0.050027</td>\n",
       "      <td>0.861952</td>\n",
       "      <td>0.016639</td>\n",
       "      <td>0.800556</td>\n",
       "      <td>0.689151</td>\n",
       "      <td>1.000000</td>\n",
       "      <td>0.869082</td>\n",
       "    </tr>\n",
       "    <tr>\n",
       "      <th>FamilySize</th>\n",
       "      <td>-0.174901</td>\n",
       "      <td>0.287734</td>\n",
       "      <td>0.687001</td>\n",
       "      <td>-0.047985</td>\n",
       "      <td>-0.067487</td>\n",
       "      <td>0.750411</td>\n",
       "      <td>0.108631</td>\n",
       "      <td>0.667312</td>\n",
       "      <td>0.746421</td>\n",
       "      <td>0.869082</td>\n",
       "      <td>1.000000</td>\n",
       "    </tr>\n",
       "  </tbody>\n",
       "</table>\n",
       "</div>"
      ],
      "text/plain": [
       "                  Age      Fare     Parch  PassengerId    Pclass     SibSp  \\\n",
       "Age          1.000000  0.178740 -0.150917     0.028814 -0.408106 -0.243699   \n",
       "Fare         0.178740  1.000000  0.221539     0.031428 -0.558629  0.160238   \n",
       "Parch       -0.150917  0.221539  1.000000     0.008942  0.018322  0.373587   \n",
       "PassengerId  0.028814  0.031428  0.008942     1.000000 -0.038354 -0.055224   \n",
       "Pclass      -0.408106 -0.558629  0.018322    -0.038354  1.000000  0.060832   \n",
       "SibSp       -0.243699  0.160238  0.373587    -0.055224  0.060832  1.000000   \n",
       "Survived    -0.077221  0.257307  0.081629    -0.005007 -0.338481 -0.035322   \n",
       "TicketCount -0.185284  0.478940  0.647029    -0.010350 -0.078554  0.679444   \n",
       "TicketGroup -0.136441  0.501253  0.565073    -0.021231 -0.207236  0.578176   \n",
       "FamilyNum   -0.240229  0.226492  0.792296    -0.031437  0.050027  0.861952   \n",
       "FamilySize  -0.174901  0.287734  0.687001    -0.047985 -0.067487  0.750411   \n",
       "\n",
       "             Survived  TicketCount  TicketGroup  FamilyNum  FamilySize  \n",
       "Age         -0.077221    -0.185284    -0.136441  -0.240229   -0.174901  \n",
       "Fare         0.257307     0.478940     0.501253   0.226492    0.287734  \n",
       "Parch        0.081629     0.647029     0.565073   0.792296    0.687001  \n",
       "PassengerId -0.005007    -0.010350    -0.021231  -0.031437   -0.047985  \n",
       "Pclass      -0.338481    -0.078554    -0.207236   0.050027   -0.067487  \n",
       "SibSp       -0.035322     0.679444     0.578176   0.861952    0.750411  \n",
       "Survived     1.000000     0.064962     0.151702   0.016639    0.108631  \n",
       "TicketCount  0.064962     1.000000     0.877515   0.800556    0.667312  \n",
       "TicketGroup  0.151702     0.877515     1.000000   0.689151    0.746421  \n",
       "FamilyNum    0.016639     0.800556     0.689151   1.000000    0.869082  \n",
       "FamilySize   0.108631     0.667312     0.746421   0.869082    1.000000  "
      ]
     },
     "execution_count": 149,
     "metadata": {},
     "output_type": "execute_result"
    }
   ],
   "source": [
    "full.corr()"
   ]
  },
  {
   "cell_type": "code",
   "execution_count": 262,
   "metadata": {},
   "outputs": [
    {
     "data": {
      "text/plain": [
       "Pclass        -0.408106\n",
       "Title_Miss    -0.280800\n",
       "SibSp         -0.243699\n",
       "FamilyNum     -0.240229\n",
       "TicketCount   -0.185284\n",
       "Parch         -0.150917\n",
       "Sex           -0.063645\n",
       "Title_Mrs      0.004350\n",
       "Fare           0.188349\n",
       "Title_Mr       0.225321\n",
       "Age            1.000000\n",
       "Name: Age, dtype: float64"
      ]
     },
     "execution_count": 262,
     "metadata": {},
     "output_type": "execute_result"
    }
   ],
   "source": [
    "AgePre=full[['Age','Parch','Fare','Sex','Pclass','SibSp','Title','FamilyNum','TicketCount']]\n",
    "AgePre=pd.get_dummies(AgePre)\n",
    "ParAge=pd.get_dummies(AgePre['Parch'],prefix='Parch')\n",
    "SibAge=pd.get_dummies(AgePre['SibSp'],prefix='SibSp')\n",
    "PclAge=pd.get_dummies(AgePre['Pclass'],prefix='Pclass')\n",
    "SexAge=pd.get_dummies(AgePre['Sex'],prefix='Sex')\n",
    "#查看变量间相关性\n",
    "AgeCorrDf=pd.DataFrame()\n",
    "AgeCorrDf=AgePre.corr()\n",
    "AgeCorrDf['Age'].sort_values()"
   ]
  },
  {
   "cell_type": "code",
   "execution_count": 264,
   "metadata": {},
   "outputs": [
    {
     "data": {
      "text/plain": [
       "Age            29.881138\n",
       "Parch           0.385027\n",
       "Fare            2.908367\n",
       "Sex             0.355997\n",
       "Pclass          2.294882\n",
       "SibSp           0.498854\n",
       "FamilyNum       1.883881\n",
       "TicketCount     2.101604\n",
       "Title_Miss      0.202445\n",
       "Title_Mr        0.592055\n",
       "Title_Mrs       0.205500\n",
       "dtype: float64"
      ]
     },
     "execution_count": 264,
     "metadata": {},
     "output_type": "execute_result"
    }
   ],
   "source": [
    "AgePre.mean()"
   ]
  },
  {
   "cell_type": "code",
   "execution_count": 265,
   "metadata": {},
   "outputs": [
    {
     "data": {
      "text/html": [
       "<div>\n",
       "<style scoped>\n",
       "    .dataframe tbody tr th:only-of-type {\n",
       "        vertical-align: middle;\n",
       "    }\n",
       "\n",
       "    .dataframe tbody tr th {\n",
       "        vertical-align: top;\n",
       "    }\n",
       "\n",
       "    .dataframe thead th {\n",
       "        text-align: right;\n",
       "    }\n",
       "</style>\n",
       "<table border=\"1\" class=\"dataframe\">\n",
       "  <thead>\n",
       "    <tr style=\"text-align: right;\">\n",
       "      <th></th>\n",
       "      <th>Age</th>\n",
       "      <th>Parch</th>\n",
       "      <th>Fare</th>\n",
       "      <th>Sex</th>\n",
       "      <th>Pclass</th>\n",
       "      <th>SibSp</th>\n",
       "      <th>FamilyNum</th>\n",
       "      <th>TicketCount</th>\n",
       "      <th>Title_Miss</th>\n",
       "      <th>Title_Mr</th>\n",
       "      <th>...</th>\n",
       "      <th>SibSp_2</th>\n",
       "      <th>SibSp_3</th>\n",
       "      <th>SibSp_4</th>\n",
       "      <th>SibSp_5</th>\n",
       "      <th>SibSp_8</th>\n",
       "      <th>Pclass_1</th>\n",
       "      <th>Pclass_2</th>\n",
       "      <th>Pclass_3</th>\n",
       "      <th>Sex_0</th>\n",
       "      <th>Sex_1</th>\n",
       "    </tr>\n",
       "  </thead>\n",
       "  <tbody>\n",
       "    <tr>\n",
       "      <th>0</th>\n",
       "      <td>22.0</td>\n",
       "      <td>0</td>\n",
       "      <td>1.981001</td>\n",
       "      <td>0</td>\n",
       "      <td>3</td>\n",
       "      <td>1</td>\n",
       "      <td>2</td>\n",
       "      <td>1</td>\n",
       "      <td>0</td>\n",
       "      <td>1</td>\n",
       "      <td>...</td>\n",
       "      <td>0</td>\n",
       "      <td>0</td>\n",
       "      <td>0</td>\n",
       "      <td>0</td>\n",
       "      <td>0</td>\n",
       "      <td>0</td>\n",
       "      <td>0</td>\n",
       "      <td>1</td>\n",
       "      <td>1</td>\n",
       "      <td>0</td>\n",
       "    </tr>\n",
       "    <tr>\n",
       "      <th>1</th>\n",
       "      <td>38.0</td>\n",
       "      <td>0</td>\n",
       "      <td>4.266662</td>\n",
       "      <td>1</td>\n",
       "      <td>1</td>\n",
       "      <td>1</td>\n",
       "      <td>2</td>\n",
       "      <td>2</td>\n",
       "      <td>0</td>\n",
       "      <td>0</td>\n",
       "      <td>...</td>\n",
       "      <td>0</td>\n",
       "      <td>0</td>\n",
       "      <td>0</td>\n",
       "      <td>0</td>\n",
       "      <td>0</td>\n",
       "      <td>1</td>\n",
       "      <td>0</td>\n",
       "      <td>0</td>\n",
       "      <td>0</td>\n",
       "      <td>1</td>\n",
       "    </tr>\n",
       "    <tr>\n",
       "      <th>2</th>\n",
       "      <td>26.0</td>\n",
       "      <td>0</td>\n",
       "      <td>2.070022</td>\n",
       "      <td>1</td>\n",
       "      <td>3</td>\n",
       "      <td>0</td>\n",
       "      <td>1</td>\n",
       "      <td>1</td>\n",
       "      <td>1</td>\n",
       "      <td>0</td>\n",
       "      <td>...</td>\n",
       "      <td>0</td>\n",
       "      <td>0</td>\n",
       "      <td>0</td>\n",
       "      <td>0</td>\n",
       "      <td>0</td>\n",
       "      <td>0</td>\n",
       "      <td>0</td>\n",
       "      <td>1</td>\n",
       "      <td>0</td>\n",
       "      <td>1</td>\n",
       "    </tr>\n",
       "    <tr>\n",
       "      <th>3</th>\n",
       "      <td>35.0</td>\n",
       "      <td>0</td>\n",
       "      <td>3.972177</td>\n",
       "      <td>1</td>\n",
       "      <td>1</td>\n",
       "      <td>1</td>\n",
       "      <td>2</td>\n",
       "      <td>2</td>\n",
       "      <td>0</td>\n",
       "      <td>0</td>\n",
       "      <td>...</td>\n",
       "      <td>0</td>\n",
       "      <td>0</td>\n",
       "      <td>0</td>\n",
       "      <td>0</td>\n",
       "      <td>0</td>\n",
       "      <td>1</td>\n",
       "      <td>0</td>\n",
       "      <td>0</td>\n",
       "      <td>0</td>\n",
       "      <td>1</td>\n",
       "    </tr>\n",
       "    <tr>\n",
       "      <th>4</th>\n",
       "      <td>35.0</td>\n",
       "      <td>0</td>\n",
       "      <td>2.085672</td>\n",
       "      <td>0</td>\n",
       "      <td>3</td>\n",
       "      <td>0</td>\n",
       "      <td>1</td>\n",
       "      <td>1</td>\n",
       "      <td>0</td>\n",
       "      <td>1</td>\n",
       "      <td>...</td>\n",
       "      <td>0</td>\n",
       "      <td>0</td>\n",
       "      <td>0</td>\n",
       "      <td>0</td>\n",
       "      <td>0</td>\n",
       "      <td>0</td>\n",
       "      <td>0</td>\n",
       "      <td>1</td>\n",
       "      <td>1</td>\n",
       "      <td>0</td>\n",
       "    </tr>\n",
       "  </tbody>\n",
       "</table>\n",
       "<p>5 rows × 31 columns</p>\n",
       "</div>"
      ],
      "text/plain": [
       "    Age  Parch      Fare  Sex  Pclass  SibSp  FamilyNum  TicketCount  \\\n",
       "0  22.0      0  1.981001    0       3      1          2            1   \n",
       "1  38.0      0  4.266662    1       1      1          2            2   \n",
       "2  26.0      0  2.070022    1       3      0          1            1   \n",
       "3  35.0      0  3.972177    1       1      1          2            2   \n",
       "4  35.0      0  2.085672    0       3      0          1            1   \n",
       "\n",
       "   Title_Miss  Title_Mr  ...  SibSp_2  SibSp_3  SibSp_4  SibSp_5  SibSp_8  \\\n",
       "0           0         1  ...        0        0        0        0        0   \n",
       "1           0         0  ...        0        0        0        0        0   \n",
       "2           1         0  ...        0        0        0        0        0   \n",
       "3           0         0  ...        0        0        0        0        0   \n",
       "4           0         1  ...        0        0        0        0        0   \n",
       "\n",
       "   Pclass_1  Pclass_2  Pclass_3  Sex_0  Sex_1  \n",
       "0         0         0         1      1      0  \n",
       "1         1         0         0      0      1  \n",
       "2         0         0         1      0      1  \n",
       "3         1         0         0      0      1  \n",
       "4         0         0         1      1      0  \n",
       "\n",
       "[5 rows x 31 columns]"
      ]
     },
     "execution_count": 265,
     "metadata": {},
     "output_type": "execute_result"
    }
   ],
   "source": [
    "#拼接数据\n",
    "AgePre=pd.concat([AgePre,ParAge,SibAge,PclAge,SexAge],axis=1)\n",
    "AgePre.head()"
   ]
  },
  {
   "cell_type": "code",
   "execution_count": 266,
   "metadata": {},
   "outputs": [],
   "source": [
    "Age_train_y = AgePre[AgePre['Age'].notnull()]['Age']\n",
    "Age_train_x = AgePre[AgePre['Age'].notnull()].drop('Age',axis=1)\n",
    "Age_pred_x = AgePre[AgePre['Age'].isnull()].drop('Age',axis=1)"
   ]
  },
  {
   "cell_type": "code",
   "execution_count": 279,
   "metadata": {},
   "outputs": [],
   "source": [
    "from sklearn.ensemble import RandomForestRegressor\n",
    "rfr=RandomForestRegressor(random_state=0,n_estimators=500,n_jobs=5)"
   ]
  },
  {
   "cell_type": "code",
   "execution_count": 280,
   "metadata": {},
   "outputs": [
    {
     "data": {
      "text/plain": [
       "0.7437654493337772"
      ]
     },
     "execution_count": 280,
     "metadata": {},
     "output_type": "execute_result"
    }
   ],
   "source": [
    "rfr.fit(Age_train_x,Age_train_y)\n",
    "rfr.score(Age_train_x,Age_train_y)"
   ]
  },
  {
   "cell_type": "code",
   "execution_count": null,
   "metadata": {},
   "outputs": [],
   "source": [
    "full.loc[full['Age'].isnull(),['Age']]= rfr.predict(Age_pred_x)"
   ]
  },
  {
   "cell_type": "code",
   "execution_count": 296,
   "metadata": {},
   "outputs": [
    {
     "name": "stdout",
     "output_type": "stream",
     "text": [
      "<class 'pandas.core.frame.DataFrame'>\n",
      "RangeIndex: 1309 entries, 0 to 1308\n",
      "Data columns (total 17 columns):\n",
      "Age            1309 non-null float64\n",
      "Cabin          1309 non-null object\n",
      "Embarked       1309 non-null object\n",
      "Fare           1309 non-null float64\n",
      "Name           1309 non-null object\n",
      "Parch          1309 non-null int64\n",
      "PassengerId    1309 non-null int64\n",
      "Pclass         1309 non-null int64\n",
      "Sex            1309 non-null int64\n",
      "SibSp          1309 non-null int64\n",
      "Survived       891 non-null float64\n",
      "Ticket         1309 non-null object\n",
      "Title          1309 non-null object\n",
      "FamilyNum      1309 non-null int64\n",
      "FamilySize     1309 non-null int64\n",
      "TicketCount    1309 non-null int64\n",
      "TicketGroup    1309 non-null int64\n",
      "dtypes: float64(3), int64(9), object(5)\n",
      "memory usage: 174.0+ KB\n"
     ]
    }
   ],
   "source": [
    "full.info()"
   ]
  },
  {
   "cell_type": "markdown",
   "metadata": {},
   "source": [
    "## 4.3 同组识别（找出具有明显同组效应且违背整体规律的数据，对其数据进行修正）"
   ]
  },
  {
   "cell_type": "markdown",
   "metadata": {},
   "source": [
    "#### 探究相同姓氏的乘客是否存在明显的同组效应。根据年龄和性别分组"
   ]
  },
  {
   "cell_type": "code",
   "execution_count": 368,
   "metadata": {},
   "outputs": [],
   "source": [
    "full['LastName'] = full['Name'].apply(lambda x: x.split(',')[0])\n",
    "df = full.groupby('LastName').count()\n",
    "LastNameDict = dict(df['Age'])\n",
    "full['LastNameNum'] = full['LastName'].map(LastNameDict)\n",
    "#10岁以上男性\n",
    "male = full[(full['Sex'] == 0)&(full['Age']>10)&(full['LastNameNum']>=2)]\n",
    "#女性及10岁以下儿童\n",
    "fem_kid = full[(full['Sex']==1)&(full['LastNameNum']>=2)|(full['Age']<=10)]"
   ]
  },
  {
   "cell_type": "code",
   "execution_count": 363,
   "metadata": {},
   "outputs": [
    {
     "data": {
      "text/plain": [
       "0.000000    122\n",
       "1.000000     21\n",
       "0.500000      5\n",
       "0.333333      2\n",
       "0.666667      1\n",
       "0.250000      1\n",
       "Name: Survived, dtype: int64"
      ]
     },
     "execution_count": 363,
     "metadata": {},
     "output_type": "execute_result"
    }
   ],
   "source": [
    "male.groupby('LastName')['Survived'].mean().value_counts()\n",
    "#0和1居多，大多数同姓氏的10岁以上男性都有‘同生共死’的倾向"
   ]
  },
  {
   "cell_type": "code",
   "execution_count": 365,
   "metadata": {},
   "outputs": [
    {
     "data": {
      "text/plain": [
       "Index(['Beane', 'Beckwith', 'Bishop', 'Bradley', 'Cardeza', 'Chambers', 'Daly',\n",
       "       'Dick', 'Duff Gordon', 'Frauenthal', 'Frolicher-Stehli', 'Goldenberg',\n",
       "       'Greenfield', 'Harder', 'Jonsson', 'Jussila', 'Kimball', 'McCoy',\n",
       "       'Nakid', 'Nicola-Yarred', 'Taylor'],\n",
       "      dtype='object', name='LastName')"
      ]
     },
     "execution_count": 365,
     "metadata": {},
     "output_type": "execute_result"
    }
   ],
   "source": [
    "Survived_male = male.groupby('LastName')['Survived'].mean()[male.groupby('LastName')['Survived'].mean().values==1].index\n",
    "Survived_male\n",
    "#生存率为1的姓氏，修正这些姓氏对应的信息，提升其预测为‘幸存’的概率"
   ]
  },
  {
   "cell_type": "code",
   "execution_count": 357,
   "metadata": {},
   "outputs": [
    {
     "data": {
      "text/plain": [
       "1.000000    116\n",
       "0.000000     31\n",
       "0.333333      1\n",
       "0.666667      1\n",
       "0.750000      1\n",
       "0.142857      1\n",
       "Name: Survived, dtype: int64"
      ]
     },
     "execution_count": 357,
     "metadata": {},
     "output_type": "execute_result"
    }
   ],
   "source": [
    "fem_kid.groupby('LastName')['Survived'].mean().value_counts()\n",
    "#0和1居多，大多数同姓氏的女性及10岁以下儿童都有‘同生共死’的倾向"
   ]
  },
  {
   "cell_type": "code",
   "execution_count": 366,
   "metadata": {},
   "outputs": [
    {
     "data": {
      "text/plain": [
       "Index(['Arnold-Franchi', 'Attalah', 'Barbara', 'Boulos', 'Bourke', 'Cacic',\n",
       "       'Canavan', 'Caram', 'Danbom', 'Ford', 'Goodwin', 'Ilmakangas',\n",
       "       'Johnston', 'Jussila', 'Lahtinen', 'Lefebre', 'Lobb', 'Olsson',\n",
       "       'Oreskovic', 'Palsson', 'Panula', 'Rice', 'Robins', 'Rosblom', 'Sage',\n",
       "       'Skoog', 'Strom', 'Turpin', 'Van Impe', 'Vander Planke', 'Zabour'],\n",
       "      dtype='object', name='LastName')"
      ]
     },
     "execution_count": 366,
     "metadata": {},
     "output_type": "execute_result"
    }
   ],
   "source": [
    "unSurvived_femkid = fem_kid.groupby('LastName')['Survived'].mean()[fem_kid.groupby('LastName')['Survived'].mean().values==0].index\n",
    "unSurvived_femkid\n",
    "#生存率为0的姓氏，修正这些姓氏对应的信息，提升其预测为‘并未幸存’的概率"
   ]
  },
  {
   "cell_type": "code",
   "execution_count": 378,
   "metadata": {},
   "outputs": [],
   "source": [
    "#对Survived_male中的姓氏对应的男性信息：性别改为女性，年龄改为8岁\n",
    "#对unSurvived_femkid中的姓氏对应的女性及儿童信息：性别改为男，年龄改为60岁\n",
    "full.loc[(full['Sex']==0)&(full['LastName'].isin(Survived_male)),'Age'] = 8\n",
    "full.loc[(full['Sex']==0)&(full['LastName'].isin(Survived_male)),'Sex'] = 1\n",
    "full.loc[((full['Sex']==1)|(full['Age']<=10))&(full['LastName'].isin(unSurvived_femkid)),'Age'] = 60\n",
    "full.loc[((full['Sex']==1)|(full['Age']<=10))&(full['LastName'].isin(unSurvived_femkid)),'Sex'] = 0"
   ]
  },
  {
   "cell_type": "markdown",
   "metadata": {},
   "source": [
    "## 4.4 筛选子集（对数据进行降维，选择子集）"
   ]
  },
  {
   "cell_type": "code",
   "execution_count": 404,
   "metadata": {},
   "outputs": [
    {
     "data": {
      "text/plain": [
       "(array([ 0.5,  1.5,  2.5,  3.5,  4.5,  5.5,  6.5,  7.5,  8.5,  9.5, 10.5]),\n",
       " <a list of 11 Text xticklabel objects>)"
      ]
     },
     "execution_count": 404,
     "metadata": {},
     "output_type": "execute_result"
    },
    {
     "data": {
      "image/png": "[encoded data removed]",
      "text/plain": [
       "<Figure size 720x576 with 2 Axes>"
      ]
     },
     "metadata": {},
     "output_type": "display_data"
    }
   ],
   "source": [
    "full.corr()['Survived']#查看相关性，手动淘汰与生存率相关性较小的特征\n",
    "select_full = full.drop(['Name','Ticket','PassengerId','LastName','LastNameNum'],axis=1)\n",
    "plt.figure(figsize=(10,8))\n",
    "sns.heatmap(select_full.corr(),cmap='magma',annot=True,linewidths=.5)\n",
    "plt.xticks(rotation=45)\n",
    "#先人工初步筛除与标签预测明显不相关或相关度很低的特征，再查看剩余特征与标签之间的相关性大小做进一步降维"
   ]
  },
  {
   "cell_type": "code",
   "execution_count": 408,
   "metadata": {},
   "outputs": [],
   "source": [
    "select_full = select_full.drop(['Parch','SibSp','FamilyNum','TicketCount'],axis=1)\n",
    "#编码\n",
    "select_full=pd.get_dummies(select_full)\n",
    "PclassDf=pd.get_dummies(full['Pclass'],prefix='Pclass')\n",
    "SexDf=pd.get_dummies(full['Sex'],prefix='Sex')\n",
    "TicketGroupDf=pd.get_dummies(full['TicketGroup'],prefix='TickGroup')\n",
    "FamilySizeDf=pd.get_dummies(full['FamilySize'],prefix='FamilySize')\n",
    "\n",
    "select_full=pd.concat([select_full,PclassDf,SexDf,TicketGroupDf,FamilySizeDf],axis=1)"
   ]
  },
  {
   "cell_type": "markdown",
   "metadata": {},
   "source": [
    "# 5. 构建模型"
   ]
  },
  {
   "cell_type": "markdown",
   "metadata": {},
   "source": [
    "## 5.1 模型选择"
   ]
  },
  {
   "cell_type": "markdown",
   "metadata": {},
   "source": [
    "### 5.1.1 拆分数据并从常用机器学习模型中筛选分类模型"
   ]
  },
  {
   "cell_type": "code",
   "execution_count": 568,
   "metadata": {},
   "outputs": [],
   "source": [
    "#import机器学习相关库\n",
    "from sklearn.ensemble import RandomForestClassifier,AdaBoostClassifier,GradientBoostingClassifier,ExtraTreesClassifier\n",
    "from sklearn.discriminant_analysis import LinearDiscriminantAnalysis\n",
    "from sklearn.linear_model import LogisticRegression\n",
    "from sklearn.neighbors import KNeighborsClassifier\n",
    "from sklearn.tree import DecisionTreeClassifier\n",
    "from sklearn.svm import SVC\n",
    "from sklearn.model_selection import GridSearchCV,cross_val_score,StratifiedKFold,train_test_split\n",
    "from sklearn.metrics import confusion_matrix,f1_score,accuracy_score\n",
    "\n",
    "classifiers = []\n",
    "classifiers.append(RandomForestClassifier())\n",
    "classifiers.append(AdaBoostClassifier())\n",
    "classifiers.append(GradientBoostingClassifier())\n",
    "classifiers.append(LogisticRegression())\n",
    "classifiers.append(KNeighborsClassifier())\n",
    "classifiers.append(DecisionTreeClassifier())\n",
    "classifiers.append(SVC())\n",
    "#拆分数据集为训练集和预测集\n",
    "known_X=select_full[select_full['Survived'].notnull()].drop(['Survived'],axis=1)\n",
    "known_y=select_full[select_full['Survived'].notnull()]['Survived']\n",
    "predict_X=select_full[select_full['Survived'].isnull()].drop(['Survived'],axis=1)"
   ]
  },
  {
   "cell_type": "markdown",
   "metadata": {},
   "source": [
    "### 5.1.2 比较初步评估结果，筛选出最优的算法"
   ]
  },
  {
   "cell_type": "code",
   "execution_count": 546,
   "metadata": {},
   "outputs": [],
   "source": [
    "kfold=StratifiedKFold(n_splits=10)\n",
    "cv_results=[]\n",
    "for classifier in classifiers:\n",
    "    cv_results.append(cross_val_score(classifier,known_X,known_y,scoring='accuracy',cv=kfold,n_jobs=-1))\n",
    "cv_mean = [i.mean() for i in cv_results]\n",
    "cv_std = [i.std() for i in cv_results]\n",
    "algorithm = ['RandomForestCla','AdaBoostCla','GradientBoostingCla','LogisticReg','KNeighborsCla','DecisionTreeCla','SVC']\n",
    "mean_std = pd.DataFrame({'mean':cv_mean,'std':cv_std,'algorithm':algorithm})"
   ]
  },
  {
   "cell_type": "code",
   "execution_count": 547,
   "metadata": {},
   "outputs": [
    {
     "data": {
      "text/plain": [
       "<matplotlib.axes._subplots.AxesSubplot at 0x127dfd860>"
      ]
     },
     "execution_count": 547,
     "metadata": {},
     "output_type": "execute_result"
    },
    {
     "data": {
      "image/png": "[encoded data removed]",
      "text/plain": [
       "<Figure size 432x288 with 1 Axes>"
      ]
     },
     "metadata": {},
     "output_type": "display_data"
    }
   ],
   "source": [
    "sns.barplot(mean_std['mean'],mean_std['algorithm'],xerr=mean_std['std'],palette='plasma')\n",
    "#可以看到GradientBoostingClassifier和LogisticRegression表现较优"
   ]
  },
  {
   "cell_type": "markdown",
   "metadata": {},
   "source": [
    "### 5.1.3 模型调优"
   ]
  },
  {
   "cell_type": "code",
   "execution_count": 548,
   "metadata": {},
   "outputs": [],
   "source": [
    "#将训练集划分为train set和validation set\n",
    "train_X,test_X,train_y,test_y = train_test_split(known_X,known_y,random_state=42)"
   ]
  },
  {
   "cell_type": "markdown",
   "metadata": {},
   "source": [
    "构建GradientBoostingClassifier和LogisticRegression两种模型，调参后进一步对比"
   ]
  },
  {
   "cell_type": "code",
   "execution_count": 582,
   "metadata": {},
   "outputs": [
    {
     "name": "stdout",
     "output_type": "stream",
     "text": [
      "Fitting 10 folds for each of 108 candidates, totalling 1080 fits\n"
     ]
    },
    {
     "name": "stderr",
     "output_type": "stream",
     "text": [
      "[Parallel(n_jobs=-1)]: Using backend LokyBackend with 4 concurrent workers.\n",
      "[Parallel(n_jobs=-1)]: Done  42 tasks      | elapsed:    4.7s\n",
      "[Parallel(n_jobs=-1)]: Done 192 tasks      | elapsed:   13.1s\n",
      "[Parallel(n_jobs=-1)]: Done 442 tasks      | elapsed:   26.6s\n",
      "[Parallel(n_jobs=-1)]: Done 792 tasks      | elapsed:   47.1s\n",
      "[Parallel(n_jobs=-1)]: Done 1080 out of 1080 | elapsed:  1.1min finished\n"
     ]
    },
    {
     "name": "stdout",
     "output_type": "stream",
     "text": [
      "Fitting 10 folds for each of 6 candidates, totalling 60 fits\n"
     ]
    },
    {
     "name": "stderr",
     "output_type": "stream",
     "text": [
      "[Parallel(n_jobs=-1)]: Using backend LokyBackend with 4 concurrent workers.\n",
      "[Parallel(n_jobs=-1)]: Done  53 out of  60 | elapsed:    0.7s remaining:    0.1s\n",
      "[Parallel(n_jobs=-1)]: Done  60 out of  60 | elapsed:    0.8s finished\n",
      "/Library/Frameworks/Python.framework/Versions/3.7/lib/python3.7/site-packages/sklearn/linear_model/_logistic.py:940: ConvergenceWarning: lbfgs failed to converge (status=1):\n",
      "STOP: TOTAL NO. of ITERATIONS REACHED LIMIT.\n",
      "\n",
      "Increase the number of iterations (max_iter) or scale the data as shown in:\n",
      "    https://scikit-learn.org/stable/modules/preprocessing.html\n",
      "Please also refer to the documentation for alternative solver options:\n",
      "    https://scikit-learn.org/stable/modules/linear_model.html#logistic-regression\n",
      "  extra_warning_msg=_LOGISTIC_SOLVER_CONVERGENCE_MSG)\n"
     ]
    }
   ],
   "source": [
    "#构建GradientBoostingClassifier\n",
    "GBC = GradientBoostingClassifier()\n",
    "gbc_params = {'loss' : [\"deviance\"],\n",
    "              'n_estimators' : [100,200,300],\n",
    "              'learning_rate': [0.1, 0.05, 0.01],\n",
    "              'max_depth': [4,6,8],\n",
    "              'min_samples_leaf': [100,150],\n",
    "              'max_features': [0.3, 0.1]}\n",
    "gbc_search = GridSearchCV(GBC,param_grid = gbc_params, cv=kfold,scoring=\"accuracy\", n_jobs= -1, verbose = 1)\n",
    "gbc_result = gbc_search.fit(train_X,train_y)\n",
    "#构建LogisticRegression\n",
    "LR=LogisticRegression()\n",
    "lr_params = {'C' : [1,2,3],'penalty':['l1','l2']}\n",
    "lr_search = GridSearchCV(LR,param_grid = lr_params, cv=kfold,scoring=\"accuracy\", n_jobs= -1, verbose = 1)\n",
    "lr_result = lr_search.fit(train_X,train_y)"
   ]
  },
  {
   "cell_type": "markdown",
   "metadata": {},
   "source": [
    "#### 5.1.3.1 查看accuracy"
   ]
  },
  {
   "cell_type": "code",
   "execution_count": 583,
   "metadata": {},
   "outputs": [
    {
     "name": "stdout",
     "output_type": "stream",
     "text": [
      "GBC模型的准确度为: 0.891\n",
      "GBC模型的最佳参数为:  {'learning_rate': 0.1, 'loss': 'deviance', 'max_depth': 6, 'max_features': 0.1, 'min_samples_leaf': 100, 'n_estimators': 300}\n",
      "LR模型的准确度为: 0.885\n",
      "LR模型的最佳参数为:  {'C': 1, 'penalty': 'l2'}\n"
     ]
    }
   ],
   "source": [
    "print('GBC模型的准确度为: %.3f'%gbc_result.best_score_)\n",
    "print('GBC模型的最佳参数为: ',gbc_result.best_params_)\n",
    "print('LR模型的准确度为: %.3f'%lr_result.best_score_)\n",
    "print('LR模型的最佳参数为: ',lr_result.best_params_)"
   ]
  },
  {
   "cell_type": "markdown",
   "metadata": {},
   "source": [
    "GBC模型准确度稍微高一些， 再查看其他评价指标"
   ]
  },
  {
   "cell_type": "markdown",
   "metadata": {},
   "source": [
    "#### 5.1.3.2 查看ROC曲线"
   ]
  },
  {
   "cell_type": "code",
   "execution_count": 584,
   "metadata": {},
   "outputs": [
    {
     "name": "stdout",
     "output_type": "stream",
     "text": [
      "GBC模型的auc值为: 0.873\n",
      "LR模型的auc值为: 0.862\n"
     ]
    }
   ],
   "source": [
    "#求出测试数据模型的预测值\n",
    "gbc_predict_y=gbc_result.predict(test_X).astype(int)\n",
    "lr_predict_y=lr_result.predict(test_X).astype(int)\n",
    "#画图\n",
    "from sklearn.metrics import roc_curve, auc  ###计算roc和auc\n",
    "# Compute ROC curve and ROC area for each class\n",
    "fpr1,tpr1,threshold1 = roc_curve(test_y, gbc_predict_y) ###计算真正率和假正率\n",
    "fpr2,tpr2,threshold2 = roc_curve(test_y, lr_predict_y)\n",
    "roc_auc1 = auc(fpr1,tpr1) ###计算auc的值\n",
    "roc_auc2 = auc(fpr2,tpr2)\n",
    "print('GBC模型的auc值为: %.3f'%roc_auc1)\n",
    "print('LR模型的auc值为: %.3f'%roc_auc2)"
   ]
  },
  {
   "cell_type": "code",
   "execution_count": 585,
   "metadata": {},
   "outputs": [
    {
     "data": {
      "text/plain": [
       "<matplotlib.legend.Legend at 0x128407ac8>"
      ]
     },
     "execution_count": 585,
     "metadata": {},
     "output_type": "execute_result"
    },
    {
     "data": {
      "image/png": "[encoded data removed]",
      "text/plain": [
       "<Figure size 720x720 with 2 Axes>"
      ]
     },
     "metadata": {},
     "output_type": "display_data"
    }
   ],
   "source": [
    "#查看模型ROC曲线\n",
    "plt.figure(figsize=(10,10))\n",
    "plt.subplot(2,2,1)\n",
    "plt.plot(fpr1, tpr1, color='r', label='ROC curve (area = %0.3f)' % roc_auc1) ###假正率为横坐标，真正率为纵坐标做曲线\n",
    "plt.plot([0, 1], [0, 1], color='b', linestyle='--')\n",
    "plt.xlim([0.0, 1.0])\n",
    "plt.ylim([0.0, 1.0])\n",
    "plt.xlabel('False Positive Rate')\n",
    "plt.ylabel('True Positive Rate')\n",
    "plt.title('GradientBoostingClassifier Model')\n",
    "plt.legend(loc=4)\n",
    "plt.subplot(2,2,2)\n",
    "plt.plot(fpr2, tpr2, color='r', label='ROC curve (area = %0.3f)' % roc_auc2) ###假正率为横坐标，真正率为纵坐标做曲线\n",
    "plt.plot([0, 1], [0, 1], color='b', linestyle='--')\n",
    "plt.xlim([0.0, 1.0])\n",
    "plt.ylim([0.0, 1.0])\n",
    "plt.xlabel('False Positive Rate')\n",
    "plt.ylabel('True Positive Rate')\n",
    "plt.title('LogisticRegression Model')\n",
    "plt.legend(loc=4)"
   ]
  },
  {
   "cell_type": "markdown",
   "metadata": {},
   "source": [
    "GradientBoostingClassifier和LogisticRegression模型ROC曲线均左上偏，GradientBoostingClassifier更接近于垂直；AUC分别为0.901和0.875，综合来看，GradientBoostingClassifier模型效果较好。"
   ]
  },
  {
   "cell_type": "markdown",
   "metadata": {},
   "source": [
    "#### 5.1.3.3 查看confusion matrix"
   ]
  },
  {
   "cell_type": "code",
   "execution_count": 586,
   "metadata": {},
   "outputs": [
    {
     "name": "stdout",
     "output_type": "stream",
     "text": [
      "GBC模型的混淆矩阵为:\n",
      " [[124  10]\n",
      " [ 16  73]]\n",
      "LR模型的混淆矩阵为:\n",
      " [[121  13]\n",
      " [ 16  73]]\n"
     ]
    }
   ],
   "source": [
    "gbc_confusion_matrix = confusion_matrix(test_y,gbc_predict_y)\n",
    "lr_confusion_matrix = confusion_matrix(test_y,lr_predict_y)\n",
    "print('GBC模型的混淆矩阵为:\\n',gbc_confusion_matrix)\n",
    "print('LR模型的混淆矩阵为:\\n',lr_confusion_matrix)"
   ]
  },
  {
   "cell_type": "markdown",
   "metadata": {},
   "source": [
    "#### 5.1.3.4 查看F1 score"
   ]
  },
  {
   "cell_type": "code",
   "execution_count": 587,
   "metadata": {},
   "outputs": [
    {
     "name": "stdout",
     "output_type": "stream",
     "text": [
      "GBC模型的F1 score为: 0.849\n",
      "LR模型的F1 score为: 0.834\n"
     ]
    }
   ],
   "source": [
    "gbc_f1_score = f1_score(test_y,gbc_predict_y)\n",
    "lr_f1_score = f1_score(test_y,lr_predict_y)\n",
    "print('GBC模型的F1 score为: %.3f'%gbc_f1_score)\n",
    "print('LR模型的F1 score为: %.3f'%lr_f1_score)"
   ]
  },
  {
   "cell_type": "markdown",
   "metadata": {},
   "source": [
    "经过上述比较，最终选择GBC模型"
   ]
  },
  {
   "cell_type": "markdown",
   "metadata": {},
   "source": [
    "# 6. 模型预测"
   ]
  },
  {
   "cell_type": "code",
   "execution_count": 589,
   "metadata": {},
   "outputs": [],
   "source": [
    "#predict survived or not\n",
    "predict_y = gbc_result.predict(predict_X).astype(int)\n",
    "#导出预测结果为csv文件\n",
    "final_result=pd.DataFrame()\n",
    "final_result['PassengerId'] = full[full['Survived'].isnull()]['PassengerId']\n",
    "final_result['Survived'] = predict_y\n",
    "final_result\n",
    "final_result.to_csv('TitanicGBC1.csv',index=False)"
   ]
  }
 ],
 "metadata": {
  "kernelspec": {
   "display_name": "Python 3",
   "language": "python",
   "name": "python3"
  },
  "language_info": {
   "codemirror_mode": {
    "name": "ipython",
    "version": 3
   },
   "file_extension": ".py",
   "mimetype": "text/x-python",
   "name": "python",
   "nbconvert_exporter": "python",
   "pygments_lexer": "ipython3",
   "version": "3.7.6"
  }
 },
 "nbformat": 4,
 "nbformat_minor": 2
}
